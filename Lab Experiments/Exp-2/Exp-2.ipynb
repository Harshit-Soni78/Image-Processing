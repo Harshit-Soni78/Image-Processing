{
 "cells": [
  {
   "cell_type": "markdown",
   "metadata": {},
   "source": [
    "# Write a program to input and output resize of image in opencv"
   ]
  },
  {
   "cell_type": "code",
   "execution_count": 1,
   "metadata": {},
   "outputs": [],
   "source": [
    "import cv2\n",
    "import numpy as np\n",
    "import matplotlib.pyplot as plt"
   ]
  },
  {
   "cell_type": "code",
   "execution_count": null,
   "metadata": {},
   "outputs": [
    {
     "name": "stdout",
     "output_type": "stream",
     "text": [
      "Original Image Dimensions: 1080x552 (Width x Height)\n",
      "Resized Image Dimensions: 200x200\n",
      "Resized image saved to: resized_image.jpg\n"
     ]
    }
   ],
   "source": [
    "# Step 1: Input - Read an image\n",
    "input_image_path = \"input.webp\"  # Replace with the path to your image\n",
    "image = cv2.imread(input_image_path)\n",
    "\n",
    "# Check if the image was successfully loaded\n",
    "if image is None:\n",
    "    print(\"Error: Unable to load the image. Check the file path.\")\n",
    "else:\n",
    "    # Display the original image\n",
    "    cv2.imshow(\"Original Image\", image)\n",
    "    print(f\"Original Image Dimensions: {image.shape[1]}x{image.shape[0]} (Width x Height)\")\n",
    "\n",
    "    # Step 2: Resize the image\n",
    "    new_width = 200  # Desired width\n",
    "    new_height = 200  # Desired height\n",
    "    resized_image = cv2.resize(image, (new_width, new_height))\n",
    "    print(f\"Resized Image Dimensions: {new_width}x{new_height}\")\n",
    "\n",
    "    # Display the resized image\n",
    "    cv2.imshow(\"Resized Image\", resized_image)\n",
    "\n",
    "    # Step 3: Save the resized image\n",
    "    output_image_path = \"resized_image.jpg\"  # Output file name\n",
    "    cv2.imwrite(output_image_path, resized_image)\n",
    "    print(f\"Resized image saved to: {output_image_path}\")\n",
    "\n",
    "    # Wait for a key press and close all windows\n",
    "    cv2.waitKey(0)\n",
    "    cv2.destroyAllWindows()"
   ]
  }
 ],
 "metadata": {
  "kernelspec": {
   "display_name": "Projects",
   "language": "python",
   "name": "python3"
  },
  "language_info": {
   "codemirror_mode": {
    "name": "ipython",
    "version": 3
   },
   "file_extension": ".py",
   "mimetype": "text/x-python",
   "name": "python",
   "nbconvert_exporter": "python",
   "pygments_lexer": "ipython3",
   "version": "3.12.8"
  }
 },
 "nbformat": 4,
 "nbformat_minor": 2
}
